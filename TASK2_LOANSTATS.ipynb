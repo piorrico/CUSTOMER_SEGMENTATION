{
  "nbformat": 4,
  "nbformat_minor": 0,
  "metadata": {
    "colab": {
      "provenance": [],
      "toc_visible": true
    },
    "kernelspec": {
      "name": "python3",
      "display_name": "Python 3"
    },
    "language_info": {
      "name": "python"
    },
    "accelerator": "TPU",
    "gpuClass": "standard"
  },
  "cells": [
    {
      "cell_type": "markdown",
      "source": [
        "# STEP1: PRELIMINARY STEPS"
      ],
      "metadata": {
        "id": "VV_iAFGRukbS"
      }
    },
    {
      "cell_type": "markdown",
      "source": [
        "Explore the Data\n",
        "Let's start by loading the loanstats.csv  data as a Pandas DataFrame and viewing the first few rows."
      ],
      "metadata": {
        "id": "Kfpk197gurig"
      }
    },
    {
      "cell_type": "code",
      "execution_count": 3,
      "metadata": {
        "colab": {
          "base_uri": "https://localhost:8080/",
          "height": 206
        },
        "id": "e61NZRxxQ8F2",
        "outputId": "2566a4a9-603b-4a7f-e84f-c695e3a52fb1"
      },
      "outputs": [
        {
          "output_type": "execute_result",
          "data": {
            "text/plain": [
              "   int_rate  loan_amnt  term grade home_ownership  annual_inc         purpose\n",
              "0     10.65       5000    36     B           RENT     24000.0     credit_card\n",
              "1     15.27       2500    60     C           RENT     30000.0             car\n",
              "2     15.96       2400    36     C           RENT     12252.0  small_business\n",
              "3     13.49      10000    36     C           RENT     49200.0           other\n",
              "4     12.69       3000    60     B           RENT     80000.0           other"
            ],
            "text/html": [
              "\n",
              "  <div id=\"df-577c1729-8cdf-44ab-b92c-d875571d37e1\">\n",
              "    <div class=\"colab-df-container\">\n",
              "      <div>\n",
              "<style scoped>\n",
              "    .dataframe tbody tr th:only-of-type {\n",
              "        vertical-align: middle;\n",
              "    }\n",
              "\n",
              "    .dataframe tbody tr th {\n",
              "        vertical-align: top;\n",
              "    }\n",
              "\n",
              "    .dataframe thead th {\n",
              "        text-align: right;\n",
              "    }\n",
              "</style>\n",
              "<table border=\"1\" class=\"dataframe\">\n",
              "  <thead>\n",
              "    <tr style=\"text-align: right;\">\n",
              "      <th></th>\n",
              "      <th>int_rate</th>\n",
              "      <th>loan_amnt</th>\n",
              "      <th>term</th>\n",
              "      <th>grade</th>\n",
              "      <th>home_ownership</th>\n",
              "      <th>annual_inc</th>\n",
              "      <th>purpose</th>\n",
              "    </tr>\n",
              "  </thead>\n",
              "  <tbody>\n",
              "    <tr>\n",
              "      <th>0</th>\n",
              "      <td>10.65</td>\n",
              "      <td>5000</td>\n",
              "      <td>36</td>\n",
              "      <td>B</td>\n",
              "      <td>RENT</td>\n",
              "      <td>24000.0</td>\n",
              "      <td>credit_card</td>\n",
              "    </tr>\n",
              "    <tr>\n",
              "      <th>1</th>\n",
              "      <td>15.27</td>\n",
              "      <td>2500</td>\n",
              "      <td>60</td>\n",
              "      <td>C</td>\n",
              "      <td>RENT</td>\n",
              "      <td>30000.0</td>\n",
              "      <td>car</td>\n",
              "    </tr>\n",
              "    <tr>\n",
              "      <th>2</th>\n",
              "      <td>15.96</td>\n",
              "      <td>2400</td>\n",
              "      <td>36</td>\n",
              "      <td>C</td>\n",
              "      <td>RENT</td>\n",
              "      <td>12252.0</td>\n",
              "      <td>small_business</td>\n",
              "    </tr>\n",
              "    <tr>\n",
              "      <th>3</th>\n",
              "      <td>13.49</td>\n",
              "      <td>10000</td>\n",
              "      <td>36</td>\n",
              "      <td>C</td>\n",
              "      <td>RENT</td>\n",
              "      <td>49200.0</td>\n",
              "      <td>other</td>\n",
              "    </tr>\n",
              "    <tr>\n",
              "      <th>4</th>\n",
              "      <td>12.69</td>\n",
              "      <td>3000</td>\n",
              "      <td>60</td>\n",
              "      <td>B</td>\n",
              "      <td>RENT</td>\n",
              "      <td>80000.0</td>\n",
              "      <td>other</td>\n",
              "    </tr>\n",
              "  </tbody>\n",
              "</table>\n",
              "</div>\n",
              "      <button class=\"colab-df-convert\" onclick=\"convertToInteractive('df-577c1729-8cdf-44ab-b92c-d875571d37e1')\"\n",
              "              title=\"Convert this dataframe to an interactive table.\"\n",
              "              style=\"display:none;\">\n",
              "        \n",
              "  <svg xmlns=\"http://www.w3.org/2000/svg\" height=\"24px\"viewBox=\"0 0 24 24\"\n",
              "       width=\"24px\">\n",
              "    <path d=\"M0 0h24v24H0V0z\" fill=\"none\"/>\n",
              "    <path d=\"M18.56 5.44l.94 2.06.94-2.06 2.06-.94-2.06-.94-.94-2.06-.94 2.06-2.06.94zm-11 1L8.5 8.5l.94-2.06 2.06-.94-2.06-.94L8.5 2.5l-.94 2.06-2.06.94zm10 10l.94 2.06.94-2.06 2.06-.94-2.06-.94-.94-2.06-.94 2.06-2.06.94z\"/><path d=\"M17.41 7.96l-1.37-1.37c-.4-.4-.92-.59-1.43-.59-.52 0-1.04.2-1.43.59L10.3 9.45l-7.72 7.72c-.78.78-.78 2.05 0 2.83L4 21.41c.39.39.9.59 1.41.59.51 0 1.02-.2 1.41-.59l7.78-7.78 2.81-2.81c.8-.78.8-2.07 0-2.86zM5.41 20L4 18.59l7.72-7.72 1.47 1.35L5.41 20z\"/>\n",
              "  </svg>\n",
              "      </button>\n",
              "      \n",
              "  <style>\n",
              "    .colab-df-container {\n",
              "      display:flex;\n",
              "      flex-wrap:wrap;\n",
              "      gap: 12px;\n",
              "    }\n",
              "\n",
              "    .colab-df-convert {\n",
              "      background-color: #E8F0FE;\n",
              "      border: none;\n",
              "      border-radius: 50%;\n",
              "      cursor: pointer;\n",
              "      display: none;\n",
              "      fill: #1967D2;\n",
              "      height: 32px;\n",
              "      padding: 0 0 0 0;\n",
              "      width: 32px;\n",
              "    }\n",
              "\n",
              "    .colab-df-convert:hover {\n",
              "      background-color: #E2EBFA;\n",
              "      box-shadow: 0px 1px 2px rgba(60, 64, 67, 0.3), 0px 1px 3px 1px rgba(60, 64, 67, 0.15);\n",
              "      fill: #174EA6;\n",
              "    }\n",
              "\n",
              "    [theme=dark] .colab-df-convert {\n",
              "      background-color: #3B4455;\n",
              "      fill: #D2E3FC;\n",
              "    }\n",
              "\n",
              "    [theme=dark] .colab-df-convert:hover {\n",
              "      background-color: #434B5C;\n",
              "      box-shadow: 0px 1px 3px 1px rgba(0, 0, 0, 0.15);\n",
              "      filter: drop-shadow(0px 1px 2px rgba(0, 0, 0, 0.3));\n",
              "      fill: #FFFFFF;\n",
              "    }\n",
              "  </style>\n",
              "\n",
              "      <script>\n",
              "        const buttonEl =\n",
              "          document.querySelector('#df-577c1729-8cdf-44ab-b92c-d875571d37e1 button.colab-df-convert');\n",
              "        buttonEl.style.display =\n",
              "          google.colab.kernel.accessAllowed ? 'block' : 'none';\n",
              "\n",
              "        async function convertToInteractive(key) {\n",
              "          const element = document.querySelector('#df-577c1729-8cdf-44ab-b92c-d875571d37e1');\n",
              "          const dataTable =\n",
              "            await google.colab.kernel.invokeFunction('convertToInteractive',\n",
              "                                                     [key], {});\n",
              "          if (!dataTable) return;\n",
              "\n",
              "          const docLinkHtml = 'Like what you see? Visit the ' +\n",
              "            '<a target=\"_blank\" href=https://colab.research.google.com/notebooks/data_table.ipynb>data table notebook</a>'\n",
              "            + ' to learn more about interactive tables.';\n",
              "          element.innerHTML = '';\n",
              "          dataTable['output_type'] = 'display_data';\n",
              "          await google.colab.output.renderOutput(dataTable, element);\n",
              "          const docLink = document.createElement('div');\n",
              "          docLink.innerHTML = docLinkHtml;\n",
              "          element.appendChild(docLink);\n",
              "        }\n",
              "      </script>\n",
              "    </div>\n",
              "  </div>\n",
              "  "
            ]
          },
          "metadata": {},
          "execution_count": 3
        }
      ],
      "source": [
        "import pandas as pd\n",
        "\n",
        "# load the training dataset\n",
        "loanstats = pd.read_csv('LoanStats.csv')\n",
        "loanstats.head()"
      ]
    },
    {
      "cell_type": "code",
      "source": [
        "loanstats.head()"
      ],
      "metadata": {
        "colab": {
          "base_uri": "https://localhost:8080/",
          "height": 206
        },
        "id": "6O1SNnUOM96F",
        "outputId": "11bf90af-e0ba-48ea-8804-22326876dab7"
      },
      "execution_count": 4,
      "outputs": [
        {
          "output_type": "execute_result",
          "data": {
            "text/plain": [
              "   int_rate  loan_amnt  term grade home_ownership  annual_inc         purpose\n",
              "0     10.65       5000    36     B           RENT     24000.0     credit_card\n",
              "1     15.27       2500    60     C           RENT     30000.0             car\n",
              "2     15.96       2400    36     C           RENT     12252.0  small_business\n",
              "3     13.49      10000    36     C           RENT     49200.0           other\n",
              "4     12.69       3000    60     B           RENT     80000.0           other"
            ],
            "text/html": [
              "\n",
              "  <div id=\"df-0fbe1676-08ad-47de-b2ba-e0f3b880ec0f\">\n",
              "    <div class=\"colab-df-container\">\n",
              "      <div>\n",
              "<style scoped>\n",
              "    .dataframe tbody tr th:only-of-type {\n",
              "        vertical-align: middle;\n",
              "    }\n",
              "\n",
              "    .dataframe tbody tr th {\n",
              "        vertical-align: top;\n",
              "    }\n",
              "\n",
              "    .dataframe thead th {\n",
              "        text-align: right;\n",
              "    }\n",
              "</style>\n",
              "<table border=\"1\" class=\"dataframe\">\n",
              "  <thead>\n",
              "    <tr style=\"text-align: right;\">\n",
              "      <th></th>\n",
              "      <th>int_rate</th>\n",
              "      <th>loan_amnt</th>\n",
              "      <th>term</th>\n",
              "      <th>grade</th>\n",
              "      <th>home_ownership</th>\n",
              "      <th>annual_inc</th>\n",
              "      <th>purpose</th>\n",
              "    </tr>\n",
              "  </thead>\n",
              "  <tbody>\n",
              "    <tr>\n",
              "      <th>0</th>\n",
              "      <td>10.65</td>\n",
              "      <td>5000</td>\n",
              "      <td>36</td>\n",
              "      <td>B</td>\n",
              "      <td>RENT</td>\n",
              "      <td>24000.0</td>\n",
              "      <td>credit_card</td>\n",
              "    </tr>\n",
              "    <tr>\n",
              "      <th>1</th>\n",
              "      <td>15.27</td>\n",
              "      <td>2500</td>\n",
              "      <td>60</td>\n",
              "      <td>C</td>\n",
              "      <td>RENT</td>\n",
              "      <td>30000.0</td>\n",
              "      <td>car</td>\n",
              "    </tr>\n",
              "    <tr>\n",
              "      <th>2</th>\n",
              "      <td>15.96</td>\n",
              "      <td>2400</td>\n",
              "      <td>36</td>\n",
              "      <td>C</td>\n",
              "      <td>RENT</td>\n",
              "      <td>12252.0</td>\n",
              "      <td>small_business</td>\n",
              "    </tr>\n",
              "    <tr>\n",
              "      <th>3</th>\n",
              "      <td>13.49</td>\n",
              "      <td>10000</td>\n",
              "      <td>36</td>\n",
              "      <td>C</td>\n",
              "      <td>RENT</td>\n",
              "      <td>49200.0</td>\n",
              "      <td>other</td>\n",
              "    </tr>\n",
              "    <tr>\n",
              "      <th>4</th>\n",
              "      <td>12.69</td>\n",
              "      <td>3000</td>\n",
              "      <td>60</td>\n",
              "      <td>B</td>\n",
              "      <td>RENT</td>\n",
              "      <td>80000.0</td>\n",
              "      <td>other</td>\n",
              "    </tr>\n",
              "  </tbody>\n",
              "</table>\n",
              "</div>\n",
              "      <button class=\"colab-df-convert\" onclick=\"convertToInteractive('df-0fbe1676-08ad-47de-b2ba-e0f3b880ec0f')\"\n",
              "              title=\"Convert this dataframe to an interactive table.\"\n",
              "              style=\"display:none;\">\n",
              "        \n",
              "  <svg xmlns=\"http://www.w3.org/2000/svg\" height=\"24px\"viewBox=\"0 0 24 24\"\n",
              "       width=\"24px\">\n",
              "    <path d=\"M0 0h24v24H0V0z\" fill=\"none\"/>\n",
              "    <path d=\"M18.56 5.44l.94 2.06.94-2.06 2.06-.94-2.06-.94-.94-2.06-.94 2.06-2.06.94zm-11 1L8.5 8.5l.94-2.06 2.06-.94-2.06-.94L8.5 2.5l-.94 2.06-2.06.94zm10 10l.94 2.06.94-2.06 2.06-.94-2.06-.94-.94-2.06-.94 2.06-2.06.94z\"/><path d=\"M17.41 7.96l-1.37-1.37c-.4-.4-.92-.59-1.43-.59-.52 0-1.04.2-1.43.59L10.3 9.45l-7.72 7.72c-.78.78-.78 2.05 0 2.83L4 21.41c.39.39.9.59 1.41.59.51 0 1.02-.2 1.41-.59l7.78-7.78 2.81-2.81c.8-.78.8-2.07 0-2.86zM5.41 20L4 18.59l7.72-7.72 1.47 1.35L5.41 20z\"/>\n",
              "  </svg>\n",
              "      </button>\n",
              "      \n",
              "  <style>\n",
              "    .colab-df-container {\n",
              "      display:flex;\n",
              "      flex-wrap:wrap;\n",
              "      gap: 12px;\n",
              "    }\n",
              "\n",
              "    .colab-df-convert {\n",
              "      background-color: #E8F0FE;\n",
              "      border: none;\n",
              "      border-radius: 50%;\n",
              "      cursor: pointer;\n",
              "      display: none;\n",
              "      fill: #1967D2;\n",
              "      height: 32px;\n",
              "      padding: 0 0 0 0;\n",
              "      width: 32px;\n",
              "    }\n",
              "\n",
              "    .colab-df-convert:hover {\n",
              "      background-color: #E2EBFA;\n",
              "      box-shadow: 0px 1px 2px rgba(60, 64, 67, 0.3), 0px 1px 3px 1px rgba(60, 64, 67, 0.15);\n",
              "      fill: #174EA6;\n",
              "    }\n",
              "\n",
              "    [theme=dark] .colab-df-convert {\n",
              "      background-color: #3B4455;\n",
              "      fill: #D2E3FC;\n",
              "    }\n",
              "\n",
              "    [theme=dark] .colab-df-convert:hover {\n",
              "      background-color: #434B5C;\n",
              "      box-shadow: 0px 1px 3px 1px rgba(0, 0, 0, 0.15);\n",
              "      filter: drop-shadow(0px 1px 2px rgba(0, 0, 0, 0.3));\n",
              "      fill: #FFFFFF;\n",
              "    }\n",
              "  </style>\n",
              "\n",
              "      <script>\n",
              "        const buttonEl =\n",
              "          document.querySelector('#df-0fbe1676-08ad-47de-b2ba-e0f3b880ec0f button.colab-df-convert');\n",
              "        buttonEl.style.display =\n",
              "          google.colab.kernel.accessAllowed ? 'block' : 'none';\n",
              "\n",
              "        async function convertToInteractive(key) {\n",
              "          const element = document.querySelector('#df-0fbe1676-08ad-47de-b2ba-e0f3b880ec0f');\n",
              "          const dataTable =\n",
              "            await google.colab.kernel.invokeFunction('convertToInteractive',\n",
              "                                                     [key], {});\n",
              "          if (!dataTable) return;\n",
              "\n",
              "          const docLinkHtml = 'Like what you see? Visit the ' +\n",
              "            '<a target=\"_blank\" href=https://colab.research.google.com/notebooks/data_table.ipynb>data table notebook</a>'\n",
              "            + ' to learn more about interactive tables.';\n",
              "          element.innerHTML = '';\n",
              "          dataTable['output_type'] = 'display_data';\n",
              "          await google.colab.output.renderOutput(dataTable, element);\n",
              "          const docLink = document.createElement('div');\n",
              "          docLink.innerHTML = docLinkHtml;\n",
              "          element.appendChild(docLink);\n",
              "        }\n",
              "      </script>\n",
              "    </div>\n",
              "  </div>\n",
              "  "
            ]
          },
          "metadata": {},
          "execution_count": 4
        }
      ]
    },
    {
      "cell_type": "markdown",
      "source": [
        "# STEP 2: DATA UNDERSTANDING"
      ],
      "metadata": {
        "id": "uxLs0zGKuMQP"
      }
    },
    {
      "cell_type": "markdown",
      "source": [
        "Analyse the variables in dataset:\n",
        "\n",
        "\n",
        "*   SCHEMA\n",
        "*   SHAPE\n",
        "*   DESCRIPTIVE STATISTICS\n",
        "*   FREQUENCY TABLES\n",
        "*   CHARTS"
      ],
      "metadata": {
        "id": "KIWwUy8DvJyY"
      }
    },
    {
      "cell_type": "code",
      "source": [
        "#View the shape of DATASET\n",
        "loanstats.shape"
      ],
      "metadata": {
        "colab": {
          "base_uri": "https://localhost:8080/"
        },
        "id": "cnDQb-4mmS4e",
        "outputId": "905db23c-483c-43a8-9a69-fb7afdf9b462"
      },
      "execution_count": 5,
      "outputs": [
        {
          "output_type": "execute_result",
          "data": {
            "text/plain": [
              "(39786, 7)"
            ]
          },
          "metadata": {},
          "execution_count": 5
        }
      ]
    },
    {
      "cell_type": "code",
      "source": [
        "#Descriptive Statistics\n",
        "loanstats.describe()"
      ],
      "metadata": {
        "colab": {
          "base_uri": "https://localhost:8080/",
          "height": 300
        },
        "id": "BHkqRrLkqbTz",
        "outputId": "b8352ef5-2ffc-47ba-b022-3e755b838690"
      },
      "execution_count": 6,
      "outputs": [
        {
          "output_type": "execute_result",
          "data": {
            "text/plain": [
              "           int_rate     loan_amnt          term    annual_inc\n",
              "count  39786.000000  39786.000000  39786.000000  3.978600e+04\n",
              "mean      12.027873  11231.360277     42.448499  6.897907e+04\n",
              "std        3.727466   7464.542832     10.638782  6.376263e+04\n",
              "min        5.420000    500.000000     36.000000  4.000000e+03\n",
              "25%        9.250000   5500.000000     36.000000  4.050000e+04\n",
              "50%       11.860000  10000.000000     36.000000  5.900000e+04\n",
              "75%       14.590000  15000.000000     60.000000  8.234250e+04\n",
              "max       24.590000  35000.000000     60.000000  6.000000e+06"
            ],
            "text/html": [
              "\n",
              "  <div id=\"df-32b7aac7-6315-4f0e-bc57-1e39ebb0ebab\">\n",
              "    <div class=\"colab-df-container\">\n",
              "      <div>\n",
              "<style scoped>\n",
              "    .dataframe tbody tr th:only-of-type {\n",
              "        vertical-align: middle;\n",
              "    }\n",
              "\n",
              "    .dataframe tbody tr th {\n",
              "        vertical-align: top;\n",
              "    }\n",
              "\n",
              "    .dataframe thead th {\n",
              "        text-align: right;\n",
              "    }\n",
              "</style>\n",
              "<table border=\"1\" class=\"dataframe\">\n",
              "  <thead>\n",
              "    <tr style=\"text-align: right;\">\n",
              "      <th></th>\n",
              "      <th>int_rate</th>\n",
              "      <th>loan_amnt</th>\n",
              "      <th>term</th>\n",
              "      <th>annual_inc</th>\n",
              "    </tr>\n",
              "  </thead>\n",
              "  <tbody>\n",
              "    <tr>\n",
              "      <th>count</th>\n",
              "      <td>39786.000000</td>\n",
              "      <td>39786.000000</td>\n",
              "      <td>39786.000000</td>\n",
              "      <td>3.978600e+04</td>\n",
              "    </tr>\n",
              "    <tr>\n",
              "      <th>mean</th>\n",
              "      <td>12.027873</td>\n",
              "      <td>11231.360277</td>\n",
              "      <td>42.448499</td>\n",
              "      <td>6.897907e+04</td>\n",
              "    </tr>\n",
              "    <tr>\n",
              "      <th>std</th>\n",
              "      <td>3.727466</td>\n",
              "      <td>7464.542832</td>\n",
              "      <td>10.638782</td>\n",
              "      <td>6.376263e+04</td>\n",
              "    </tr>\n",
              "    <tr>\n",
              "      <th>min</th>\n",
              "      <td>5.420000</td>\n",
              "      <td>500.000000</td>\n",
              "      <td>36.000000</td>\n",
              "      <td>4.000000e+03</td>\n",
              "    </tr>\n",
              "    <tr>\n",
              "      <th>25%</th>\n",
              "      <td>9.250000</td>\n",
              "      <td>5500.000000</td>\n",
              "      <td>36.000000</td>\n",
              "      <td>4.050000e+04</td>\n",
              "    </tr>\n",
              "    <tr>\n",
              "      <th>50%</th>\n",
              "      <td>11.860000</td>\n",
              "      <td>10000.000000</td>\n",
              "      <td>36.000000</td>\n",
              "      <td>5.900000e+04</td>\n",
              "    </tr>\n",
              "    <tr>\n",
              "      <th>75%</th>\n",
              "      <td>14.590000</td>\n",
              "      <td>15000.000000</td>\n",
              "      <td>60.000000</td>\n",
              "      <td>8.234250e+04</td>\n",
              "    </tr>\n",
              "    <tr>\n",
              "      <th>max</th>\n",
              "      <td>24.590000</td>\n",
              "      <td>35000.000000</td>\n",
              "      <td>60.000000</td>\n",
              "      <td>6.000000e+06</td>\n",
              "    </tr>\n",
              "  </tbody>\n",
              "</table>\n",
              "</div>\n",
              "      <button class=\"colab-df-convert\" onclick=\"convertToInteractive('df-32b7aac7-6315-4f0e-bc57-1e39ebb0ebab')\"\n",
              "              title=\"Convert this dataframe to an interactive table.\"\n",
              "              style=\"display:none;\">\n",
              "        \n",
              "  <svg xmlns=\"http://www.w3.org/2000/svg\" height=\"24px\"viewBox=\"0 0 24 24\"\n",
              "       width=\"24px\">\n",
              "    <path d=\"M0 0h24v24H0V0z\" fill=\"none\"/>\n",
              "    <path d=\"M18.56 5.44l.94 2.06.94-2.06 2.06-.94-2.06-.94-.94-2.06-.94 2.06-2.06.94zm-11 1L8.5 8.5l.94-2.06 2.06-.94-2.06-.94L8.5 2.5l-.94 2.06-2.06.94zm10 10l.94 2.06.94-2.06 2.06-.94-2.06-.94-.94-2.06-.94 2.06-2.06.94z\"/><path d=\"M17.41 7.96l-1.37-1.37c-.4-.4-.92-.59-1.43-.59-.52 0-1.04.2-1.43.59L10.3 9.45l-7.72 7.72c-.78.78-.78 2.05 0 2.83L4 21.41c.39.39.9.59 1.41.59.51 0 1.02-.2 1.41-.59l7.78-7.78 2.81-2.81c.8-.78.8-2.07 0-2.86zM5.41 20L4 18.59l7.72-7.72 1.47 1.35L5.41 20z\"/>\n",
              "  </svg>\n",
              "      </button>\n",
              "      \n",
              "  <style>\n",
              "    .colab-df-container {\n",
              "      display:flex;\n",
              "      flex-wrap:wrap;\n",
              "      gap: 12px;\n",
              "    }\n",
              "\n",
              "    .colab-df-convert {\n",
              "      background-color: #E8F0FE;\n",
              "      border: none;\n",
              "      border-radius: 50%;\n",
              "      cursor: pointer;\n",
              "      display: none;\n",
              "      fill: #1967D2;\n",
              "      height: 32px;\n",
              "      padding: 0 0 0 0;\n",
              "      width: 32px;\n",
              "    }\n",
              "\n",
              "    .colab-df-convert:hover {\n",
              "      background-color: #E2EBFA;\n",
              "      box-shadow: 0px 1px 2px rgba(60, 64, 67, 0.3), 0px 1px 3px 1px rgba(60, 64, 67, 0.15);\n",
              "      fill: #174EA6;\n",
              "    }\n",
              "\n",
              "    [theme=dark] .colab-df-convert {\n",
              "      background-color: #3B4455;\n",
              "      fill: #D2E3FC;\n",
              "    }\n",
              "\n",
              "    [theme=dark] .colab-df-convert:hover {\n",
              "      background-color: #434B5C;\n",
              "      box-shadow: 0px 1px 3px 1px rgba(0, 0, 0, 0.15);\n",
              "      filter: drop-shadow(0px 1px 2px rgba(0, 0, 0, 0.3));\n",
              "      fill: #FFFFFF;\n",
              "    }\n",
              "  </style>\n",
              "\n",
              "      <script>\n",
              "        const buttonEl =\n",
              "          document.querySelector('#df-32b7aac7-6315-4f0e-bc57-1e39ebb0ebab button.colab-df-convert');\n",
              "        buttonEl.style.display =\n",
              "          google.colab.kernel.accessAllowed ? 'block' : 'none';\n",
              "\n",
              "        async function convertToInteractive(key) {\n",
              "          const element = document.querySelector('#df-32b7aac7-6315-4f0e-bc57-1e39ebb0ebab');\n",
              "          const dataTable =\n",
              "            await google.colab.kernel.invokeFunction('convertToInteractive',\n",
              "                                                     [key], {});\n",
              "          if (!dataTable) return;\n",
              "\n",
              "          const docLinkHtml = 'Like what you see? Visit the ' +\n",
              "            '<a target=\"_blank\" href=https://colab.research.google.com/notebooks/data_table.ipynb>data table notebook</a>'\n",
              "            + ' to learn more about interactive tables.';\n",
              "          element.innerHTML = '';\n",
              "          dataTable['output_type'] = 'display_data';\n",
              "          await google.colab.output.renderOutput(dataTable, element);\n",
              "          const docLink = document.createElement('div');\n",
              "          docLink.innerHTML = docLinkHtml;\n",
              "          element.appendChild(docLink);\n",
              "        }\n",
              "      </script>\n",
              "    </div>\n",
              "  </div>\n",
              "  "
            ]
          },
          "metadata": {},
          "execution_count": 6
        }
      ]
    },
    {
      "cell_type": "code",
      "source": [
        "# getting the columns of the dataset\n",
        "columns = list(loanstats.columns)\n",
        "columns"
      ],
      "metadata": {
        "colab": {
          "base_uri": "https://localhost:8080/"
        },
        "id": "yeiAM0labDP1",
        "outputId": "6dc352d8-dd9e-494f-a83f-e895d9ab6d84"
      },
      "execution_count": 7,
      "outputs": [
        {
          "output_type": "execute_result",
          "data": {
            "text/plain": [
              "['int_rate',\n",
              " 'loan_amnt',\n",
              " 'term',\n",
              " 'grade',\n",
              " 'home_ownership',\n",
              " 'annual_inc',\n",
              " 'purpose']"
            ]
          },
          "metadata": {},
          "execution_count": 7
        }
      ]
    },
    {
      "cell_type": "code",
      "source": [
        "# examining missing values\n",
        "print(\"Missing values distribution: \")\n",
        "print(loanstats.isnull().mean())\n",
        "print(\"\")"
      ],
      "metadata": {
        "colab": {
          "base_uri": "https://localhost:8080/"
        },
        "id": "ZvLYs9dlcHgA",
        "outputId": "e238b703-3d99-4881-f1aa-6d17105559e1"
      },
      "execution_count": 8,
      "outputs": [
        {
          "output_type": "stream",
          "name": "stdout",
          "text": [
            "Missing values distribution: \n",
            "int_rate          0.0\n",
            "loan_amnt         0.0\n",
            "term              0.0\n",
            "grade             0.0\n",
            "home_ownership    0.0\n",
            "annual_inc        0.0\n",
            "purpose           0.0\n",
            "dtype: float64\n",
            "\n"
          ]
        }
      ]
    },
    {
      "cell_type": "code",
      "source": [
        "\n",
        "# check datatype in each column\n",
        "print(\"Column datatypes: \")\n",
        "print(loanstats.dtypes)\n",
        "\n"
      ],
      "metadata": {
        "colab": {
          "base_uri": "https://localhost:8080/"
        },
        "id": "QiJqKLBTcWak",
        "outputId": "b0de3716-3d37-4fa0-f0fc-a8dc3fd68ba9"
      },
      "execution_count": 9,
      "outputs": [
        {
          "output_type": "stream",
          "name": "stdout",
          "text": [
            "Column datatypes: \n",
            "int_rate          float64\n",
            "loan_amnt           int64\n",
            "term                int64\n",
            "grade              object\n",
            "home_ownership     object\n",
            "annual_inc        float64\n",
            "purpose            object\n",
            "dtype: object\n"
          ]
        }
      ]
    },
    {
      "cell_type": "code",
      "source": [
        "#Labels of home ownership type\n",
        "loanstats['home_ownership'].unique()"
      ],
      "metadata": {
        "colab": {
          "base_uri": "https://localhost:8080/"
        },
        "id": "y8qA9DS_bncs",
        "outputId": "d24aea1f-e0f4-4bbf-e612-f3d66ded5b4d"
      },
      "execution_count": 10,
      "outputs": [
        {
          "output_type": "execute_result",
          "data": {
            "text/plain": [
              "array(['RENT', 'OWN', 'MORTGAGE', 'OTHER', 'NONE'], dtype=object)"
            ]
          },
          "metadata": {},
          "execution_count": 10
        }
      ]
    },
    {
      "cell_type": "code",
      "source": [
        "#Labels of purpose\n",
        "loanstats['purpose'].unique()"
      ],
      "metadata": {
        "colab": {
          "base_uri": "https://localhost:8080/"
        },
        "id": "1WlCnsJrcMtZ",
        "outputId": "ffc7c15b-af55-4c37-ba10-a43dbb296c08"
      },
      "execution_count": 11,
      "outputs": [
        {
          "output_type": "execute_result",
          "data": {
            "text/plain": [
              "array(['credit_card', 'car', 'small_business', 'other', 'wedding',\n",
              "       'debt_consolidation', 'home_improvement', 'major_purchase',\n",
              "       'medical', 'moving', 'vacation', 'house', 'renewable_energy',\n",
              "       'educational'], dtype=object)"
            ]
          },
          "metadata": {},
          "execution_count": 11
        }
      ]
    },
    {
      "cell_type": "code",
      "source": [
        "#Comparison of 36 ang 60 terms \n",
        "print(loanstats.term.value_counts(), '\\n')\n",
        "loanstats.term.value_counts().plot.bar()"
      ],
      "metadata": {
        "colab": {
          "base_uri": "https://localhost:8080/",
          "height": 354
        },
        "id": "EtA0jfw6dV2G",
        "outputId": "71d79665-7d8d-4043-f16d-51e95e151ace"
      },
      "execution_count": 12,
      "outputs": [
        {
          "output_type": "stream",
          "name": "stdout",
          "text": [
            "36    29096\n",
            "60    10690\n",
            "Name: term, dtype: int64 \n",
            "\n"
          ]
        },
        {
          "output_type": "execute_result",
          "data": {
            "text/plain": [
              "<matplotlib.axes._subplots.AxesSubplot at 0x7ff833b469a0>"
            ]
          },
          "metadata": {},
          "execution_count": 12
        },
        {
          "output_type": "display_data",
          "data": {
            "text/plain": [
              "<Figure size 432x288 with 1 Axes>"
            ],
            "image/png": "[encoded data removed]"
          },
          "metadata": {
            "needs_background": "light"
          }
        }
      ]
    },
    {
      "cell_type": "code",
      "source": [
        "#Comparison  count of types of homes \n",
        "print(loanstats.home_ownership.value_counts(), '\\n')\n",
        "\n",
        "loanstats.home_ownership.value_counts().plot.bar()"
      ],
      "metadata": {
        "colab": {
          "base_uri": "https://localhost:8080/",
          "height": 450
        },
        "id": "ZQg2UoCOg3aN",
        "outputId": "9035518c-5ca4-4621-a607-b0c2786c056b"
      },
      "execution_count": 13,
      "outputs": [
        {
          "output_type": "stream",
          "name": "stdout",
          "text": [
            "RENT        18918\n",
            "MORTGAGE    17703\n",
            "OWN          3064\n",
            "OTHER          98\n",
            "NONE            3\n",
            "Name: home_ownership, dtype: int64 \n",
            "\n"
          ]
        },
        {
          "output_type": "execute_result",
          "data": {
            "text/plain": [
              "<matplotlib.axes._subplots.AxesSubplot at 0x7ff833af9070>"
            ]
          },
          "metadata": {},
          "execution_count": 13
        },
        {
          "output_type": "display_data",
          "data": {
            "text/plain": [
              "<Figure size 432x288 with 1 Axes>"
            ],
            "image/png": "[encoded data removed]"
          },
          "metadata": {
            "needs_background": "light"
          }
        }
      ]
    },
    {
      "cell_type": "code",
      "source": [
        "#Comparison  count of grades \n",
        "print(loanstats.grade.value_counts(), '\\n')\n",
        "loanstats.grade.value_counts().plot.bar()"
      ],
      "metadata": {
        "colab": {
          "base_uri": "https://localhost:8080/",
          "height": 436
        },
        "id": "8Na1kO1eohZL",
        "outputId": "c0f9d4cc-3e5b-4ae3-ae4d-1ac05eec4b1c"
      },
      "execution_count": 14,
      "outputs": [
        {
          "output_type": "stream",
          "name": "stdout",
          "text": [
            "B    12035\n",
            "A    10085\n",
            "C     8111\n",
            "D     5325\n",
            "E     2858\n",
            "F     1054\n",
            "G      318\n",
            "Name: grade, dtype: int64 \n",
            "\n"
          ]
        },
        {
          "output_type": "execute_result",
          "data": {
            "text/plain": [
              "<matplotlib.axes._subplots.AxesSubplot at 0x7ff83362c4c0>"
            ]
          },
          "metadata": {},
          "execution_count": 14
        },
        {
          "output_type": "display_data",
          "data": {
            "text/plain": [
              "<Figure size 432x288 with 1 Axes>"
            ],
            "image/png": "[encoded data removed]"
          },
          "metadata": {
            "needs_background": "light"
          }
        }
      ]
    },
    {
      "cell_type": "code",
      "source": [
        "#Frequency Distribution of Interest Rates\n",
        "import seaborn as sns\n",
        "import matplotlib.pyplot as plt\n",
        "\n",
        "plt.figure(figsize=(15,6))\n",
        "plt.suptitle('Frequency Distribution of Interest Rates', fontsize=14, fontweight=\"bold\")\n",
        "plt.subplot(1,2,1)\n",
        "sns.distplot(loanstats['int_rate'], color=\"black\", label=\"No. Words\", bins=35, hist_kws={\"alpha\": 0.5,\"rwidth\":0.8})\n",
        "\n",
        "plt.xlabel(\"Int_rate\", fontsize=12)\n",
        "plt.ylabel(\"Frequency\", fontsize=12)\n",
        "plt.xlim([0,40])"
      ],
      "metadata": {
        "colab": {
          "base_uri": "https://localhost:8080/",
          "height": 506
        },
        "id": "wmrmFsDUoyIi",
        "outputId": "714e5b66-ebcd-4d98-eec7-11565e2c7f32"
      },
      "execution_count": 15,
      "outputs": [
        {
          "output_type": "stream",
          "name": "stderr",
          "text": [
            "/usr/local/lib/python3.8/dist-packages/seaborn/distributions.py:2619: FutureWarning: `distplot` is a deprecated function and will be removed in a future version. Please adapt your code to use either `displot` (a figure-level function with similar flexibility) or `histplot` (an axes-level function for histograms).\n",
            "  warnings.warn(msg, FutureWarning)\n"
          ]
        },
        {
          "output_type": "execute_result",
          "data": {
            "text/plain": [
              "(0.0, 40.0)"
            ]
          },
          "metadata": {},
          "execution_count": 15
        },
        {
          "output_type": "display_data",
          "data": {
            "text/plain": [
              "<Figure size 1080x432 with 1 Axes>"
            ],
            "image/png": "[encoded data removed]"
          },
          "metadata": {
            "needs_background": "light"
          }
        }
      ]
    },
    {
      "cell_type": "code",
      "source": [
        "#Annual Income Frequency  Distribution \n",
        "\n",
        "plt.figure(figsize=(15,6))\n",
        "plt.suptitle(' Annual_inc  Frequency Distribution ', fontsize=14, fontweight=\"bold\")\n",
        "plt.subplot(1,2,1)\n",
        "sns.distplot(loanstats['annual_inc'], color=\"black\", label=\"Annual_inc\", bins=3000, hist_kws={\"alpha\": 0.5,\"rwidth\":0.8})\n",
        "\n",
        "plt.xlabel(\"Annual_inc\", fontsize=12)\n",
        "plt.ylabel(\"Frequency\", fontsize=12)\n",
        "plt.xlim([0,300000])"
      ],
      "metadata": {
        "colab": {
          "base_uri": "https://localhost:8080/",
          "height": 506
        },
        "id": "s2l0UMOlr-aI",
        "outputId": "b66d1617-786a-44cd-caa4-6c8ca412d440"
      },
      "execution_count": 16,
      "outputs": [
        {
          "output_type": "stream",
          "name": "stderr",
          "text": [
            "/usr/local/lib/python3.8/dist-packages/seaborn/distributions.py:2619: FutureWarning: `distplot` is a deprecated function and will be removed in a future version. Please adapt your code to use either `displot` (a figure-level function with similar flexibility) or `histplot` (an axes-level function for histograms).\n",
            "  warnings.warn(msg, FutureWarning)\n"
          ]
        },
        {
          "output_type": "execute_result",
          "data": {
            "text/plain": [
              "(0.0, 300000.0)"
            ]
          },
          "metadata": {},
          "execution_count": 16
        },
        {
          "output_type": "display_data",
          "data": {
            "text/plain": [
              "<Figure size 1080x432 with 1 Axes>"
            ],
            "image/png": "[encoded data removed]"
          },
          "metadata": {
            "needs_background": "light"
          }
        }
      ]
    },
    {
      "cell_type": "code",
      "source": [
        "import pandas as pd\n",
        "import matplotlib.pyplot as plt\n",
        "\n",
        "# This ensures plots are displayed inline in the Jupyter notebook\n",
        "%matplotlib inline\n",
        "\n",
        "# Get the label column\n",
        "label = loanstats['int_rate']\n",
        "\n",
        "\n",
        "# Create a figure for 2 subplots (2 rows, 1 column)\n",
        "fig, ax = plt.subplots(2, 1, figsize = (9,12))\n",
        "\n",
        "# Plot the histogram   \n",
        "\n",
        "ax[0].hist(label, bins=100)\n",
        "ax[0].set_ylabel('Frequency')\n",
        "\n",
        "\n",
        "# Add lines for the mean, median, and mode\n",
        "ax[0].axvline(label.mean(), color='magenta', linestyle='dashed', linewidth=2)\n",
        "ax[0].axvline(label.median(), color='cyan', linestyle='dashed', linewidth=2)\n",
        "\n",
        "# Plot the boxplot   \n",
        "ax[1].boxplot(label, vert=False)\n",
        "ax[1].set_xlabel('INT_RATE')\n",
        "\n",
        "# Add a title to the Figure\n",
        "fig.suptitle('INT_RATE Distribution')\n",
        "\n",
        "# Show the figure\n",
        "fig.show()"
      ],
      "metadata": {
        "colab": {
          "base_uri": "https://localhost:8080/",
          "height": 802
        },
        "id": "iZ_2uvD31h5K",
        "outputId": "7d2c16f7-3c1c-48c1-88ca-268ebe6970dd"
      },
      "execution_count": 17,
      "outputs": [
        {
          "output_type": "display_data",
          "data": {
            "text/plain": [
              "<Figure size 648x864 with 2 Axes>"
            ],
            "image/png": "[encoded data removed]"
          },
          "metadata": {
            "needs_background": "light"
          }
        }
      ]
    },
    {
      "cell_type": "code",
      "source": [
        "# Plot a histogram for each numeric feature\n",
        "numeric_features=['loan_amnt','annual_inc']\n",
        "for col in numeric_features:\n",
        "    fig = plt.figure(figsize=(9, 6))\n",
        "    ax = fig.gca()\n",
        "    feature = loanstats[col]\n",
        "    feature.hist(bins=100, ax = ax)\n",
        "    ax.axvline(feature.mean(), color='magenta', linestyle='dashed', linewidth=2)\n",
        "    ax.axvline(feature.median(), color='cyan', linestyle='dashed', linewidth=2)\n",
        "    ax.set_title(col)\n",
        "plt.show()"
      ],
      "metadata": {
        "colab": {
          "base_uri": "https://localhost:8080/",
          "height": 776
        },
        "id": "kUHguMdv5ZGp",
        "outputId": "790f8300-f4fc-4314-82b2-92271faa2268"
      },
      "execution_count": 18,
      "outputs": [
        {
          "output_type": "display_data",
          "data": {
            "text/plain": [
              "<Figure size 648x432 with 1 Axes>"
            ],
            "image/png": "[encoded data removed]"
          },
          "metadata": {
            "needs_background": "light"
          }
        },
        {
          "output_type": "display_data",
          "data": {
            "text/plain": [
              "<Figure size 648x432 with 1 Axes>"
            ],
            "image/png": "[encoded data removed]"
          },
          "metadata": {
            "needs_background": "light"
          }
        }
      ]
    },
    {
      "cell_type": "code",
      "source": [
        "import numpy as np\n",
        "\n",
        "# plot a bar plot for each categorical feature count\n",
        "categorical_features = ['term','grade','home_ownership', 'purpose']\n",
        "\n",
        "for col in categorical_features:\n",
        "    counts = loanstats[col].value_counts().sort_index()\n",
        "    fig = plt.figure(figsize=(9, 6))\n",
        "    ax = fig.gca()\n",
        "    counts.plot.bar(ax = ax, color='steelblue')\n",
        "    ax.set_title(col + ' counts')\n",
        "    ax.set_xlabel(col) \n",
        "    ax.set_ylabel(\"Frequency\")\n",
        "plt.show()"
      ],
      "metadata": {
        "colab": {
          "base_uri": "https://localhost:8080/",
          "height": 1000
        },
        "id": "ZB_gg8Dw3nGi",
        "outputId": "922bb490-b005-4e47-cce2-8436370c400e"
      },
      "execution_count": 19,
      "outputs": [
        {
          "output_type": "display_data",
          "data": {
            "text/plain": [
              "<Figure size 648x432 with 1 Axes>"
            ],
            "image/png": "[encoded data removed]"
          },
          "metadata": {
            "needs_background": "light"
          }
        },
        {
          "output_type": "display_data",
          "data": {
            "text/plain": [
              "<Figure size 648x432 with 1 Axes>"
            ],
            "image/png": "[encoded data removed]"
          },
          "metadata": {
            "needs_background": "light"
          }
        },
        {
          "output_type": "display_data",
          "data": {
            "text/plain": [
              "<Figure size 648x432 with 1 Axes>"
            ],
            "image/png": "[encoded data removed]"
          },
          "metadata": {
            "needs_background": "light"
          }
        },
        {
          "output_type": "display_data",
          "data": {
            "text/plain": [
              "<Figure size 648x432 with 1 Axes>"
            ],
            "image/png": "[encoded data removed]"
          },
          "metadata": {
            "needs_background": "light"
          }
        }
      ]
    },
    {
      "cell_type": "code",
      "source": [
        "# plot a boxplot for the label by each categorical feature\n",
        "for col in categorical_features:\n",
        "    fig = plt.figure(figsize=(10, 10))\n",
        "    ax = fig.gca()\n",
        "    loanstats.boxplot(column = 'int_rate', by = col, ax = ax)\n",
        "    ax.set_title('Label by ' + col)\n",
        "    ax.set_ylabel(\"Bike Rentals\")\n",
        "plt.show()"
      ],
      "metadata": {
        "colab": {
          "base_uri": "https://localhost:8080/",
          "height": 1000
        },
        "id": "vzS-GJaY_DK7",
        "outputId": "d1ba603e-0700-429c-91f4-c7ea239d49c2"
      },
      "execution_count": 22,
      "outputs": [
        {
          "output_type": "stream",
          "name": "stderr",
          "text": [
            "/usr/local/lib/python3.8/dist-packages/matplotlib/cbook/__init__.py:1376: VisibleDeprecationWarning: Creating an ndarray from ragged nested sequences (which is a list-or-tuple of lists-or-tuples-or ndarrays with different lengths or shapes) is deprecated. If you meant to do this, you must specify 'dtype=object' when creating the ndarray.\n",
            "  X = np.atleast_1d(X.T if isinstance(X, np.ndarray) else np.asarray(X))\n",
            "/usr/local/lib/python3.8/dist-packages/matplotlib/cbook/__init__.py:1376: VisibleDeprecationWarning: Creating an ndarray from ragged nested sequences (which is a list-or-tuple of lists-or-tuples-or ndarrays with different lengths or shapes) is deprecated. If you meant to do this, you must specify 'dtype=object' when creating the ndarray.\n",
            "  X = np.atleast_1d(X.T if isinstance(X, np.ndarray) else np.asarray(X))\n",
            "/usr/local/lib/python3.8/dist-packages/matplotlib/cbook/__init__.py:1376: VisibleDeprecationWarning: Creating an ndarray from ragged nested sequences (which is a list-or-tuple of lists-or-tuples-or ndarrays with different lengths or shapes) is deprecated. If you meant to do this, you must specify 'dtype=object' when creating the ndarray.\n",
            "  X = np.atleast_1d(X.T if isinstance(X, np.ndarray) else np.asarray(X))\n",
            "/usr/local/lib/python3.8/dist-packages/matplotlib/cbook/__init__.py:1376: VisibleDeprecationWarning: Creating an ndarray from ragged nested sequences (which is a list-or-tuple of lists-or-tuples-or ndarrays with different lengths or shapes) is deprecated. If you meant to do this, you must specify 'dtype=object' when creating the ndarray.\n",
            "  X = np.atleast_1d(X.T if isinstance(X, np.ndarray) else np.asarray(X))\n"
          ]
        },
        {
          "output_type": "display_data",
          "data": {
            "text/plain": [
              "<Figure size 720x720 with 1 Axes>"
            ],
            "image/png": "[encoded data removed]"
          },
          "metadata": {
            "needs_background": "light"
          }
        },
        {
          "output_type": "display_data",
          "data": {
            "text/plain": [
              "<Figure size 720x720 with 1 Axes>"
            ],
            "image/png": "[encoded data removed]"
          },
          "metadata": {
            "needs_background": "light"
          }
        },
        {
          "output_type": "display_data",
          "data": {
            "text/plain": [
              "<Figure size 720x720 with 1 Axes>"
            ],
            "image/png": "[encoded data removed]"
          },
          "metadata": {
            "needs_background": "light"
          }
        },
        {
          "output_type": "display_data",
          "data": {
            "text/plain": [
              "<Figure size 720x720 with 1 Axes>"
            ],
            "image/png": "[encoded data removed]"
          },
          "metadata": {
            "needs_background": "light"
          }
        }
      ]
    },
    {
      "cell_type": "markdown",
      "source": [
        "# STEP 3 DATA PREPARATION"
      ],
      "metadata": {
        "id": "ikrlvBoD1bF6"
      }
    },
    {
      "cell_type": "markdown",
      "source": [
        "TRANSFORMATION OF ALL CATEGORICAL VARIABLES"
      ],
      "metadata": {
        "id": "XKKM4jjDgPzN"
      }
    },
    {
      "cell_type": "code",
      "source": [
        "# Encoding the  categorical variables \n",
        "loanstats['term'] = loanstats.term.astype('category')\n",
        "loanstats['term']  =  loanstats['term'].cat.codes\n",
        "loanstats['grade'] = loanstats.grade.astype('category')\n",
        "loanstats['grade']  =  loanstats['grade'].cat.codes\n",
        "loanstats['home_ownership'] = loanstats.home_ownership.astype('category')\n",
        "loanstats['home_ownership']  =  loanstats['home_ownership'].cat.codes\n",
        "loanstats['purpose'] = loanstats.purpose.astype('category')\n",
        "loanstats['purpose']  =  loanstats['purpose'].cat.codes\n"
      ],
      "metadata": {
        "id": "hWUfO9ybgK9w"
      },
      "execution_count": null,
      "outputs": []
    },
    {
      "cell_type": "markdown",
      "source": [
        "NORMALIZATION OF NUMERICAL VARIABLES"
      ],
      "metadata": {
        "id": "W-s1S9o5gYgV"
      }
    },
    {
      "cell_type": "code",
      "source": [
        "#Normalizing the numerical variables with MinMaxScaler\n",
        "from sklearn.preprocessing import MinMaxScaler\n",
        "scaler = MinMaxScaler()\n",
        "loanstats[['loan_amnt', 'annual_inc']] = scaler.fit_transform(loanstats[['loan_amnt', 'annual_inc']])"
      ],
      "metadata": {
        "id": "iMN7mrW6HyP7"
      },
      "execution_count": 23,
      "outputs": []
    },
    {
      "cell_type": "markdown",
      "source": [
        "SPLIT INTO TEST AND TRAIN DATASETS"
      ],
      "metadata": {
        "id": "X-gh392_CF_W"
      }
    },
    {
      "cell_type": "code",
      "source": [
        "# Separate features and labels\n",
        "X, y = loanstats[['loan_amnt','term','grade','home_ownership','annual_inc','purpose']].values, loanstats['int_rate'].values\n",
        "print('Features:',X[:6], '\\nLabels:', y[:6], sep='\\n')"
      ],
      "metadata": {
        "colab": {
          "base_uri": "https://localhost:8080/"
        },
        "id": "GBRhAZgYBcxn",
        "outputId": "49d2eac0-c5cd-4197-93e0-a006b17f7fe6"
      },
      "execution_count": 24,
      "outputs": [
        {
          "output_type": "stream",
          "name": "stdout",
          "text": [
            "Features:\n",
            "[[1.30434783e-01 0.00000000e+00 1.00000000e+00 4.00000000e+00\n",
            "  3.33555704e-03 1.00000000e+00]\n",
            " [5.79710145e-02 1.00000000e+00 2.00000000e+00 4.00000000e+00\n",
            "  4.33622415e-03 0.00000000e+00]\n",
            " [5.50724638e-02 0.00000000e+00 2.00000000e+00 4.00000000e+00\n",
            "  1.37625083e-03 1.10000000e+01]\n",
            " [2.75362319e-01 0.00000000e+00 2.00000000e+00 4.00000000e+00\n",
            "  7.53835891e-03 9.00000000e+00]\n",
            " [7.24637681e-02 1.00000000e+00 1.00000000e+00 4.00000000e+00\n",
            "  1.26751167e-02 9.00000000e+00]\n",
            " [1.30434783e-01 0.00000000e+00 0.00000000e+00 4.00000000e+00\n",
            "  5.33689126e-03 1.30000000e+01]]\n",
            "\n",
            "Labels:\n",
            "[10.65 15.27 15.96 13.49 12.69  7.9 ]\n"
          ]
        }
      ]
    },
    {
      "cell_type": "code",
      "source": [
        "from sklearn.model_selection import train_test_split\n",
        "\n",
        "# Split data 70%-30% into training set and test set\n",
        "X_train, X_test, y_train, y_test = train_test_split(X, y, test_size=0.30, random_state=0)\n",
        "\n",
        "print ('Training Set: %d rows\\nTest Set: %d rows' % (X_train.shape[0], X_test.shape[0]))"
      ],
      "metadata": {
        "colab": {
          "base_uri": "https://localhost:8080/"
        },
        "id": "fNGzaqIRHlM4",
        "outputId": "2f9ce19f-8e79-47ba-c534-5614b9464050"
      },
      "execution_count": 25,
      "outputs": [
        {
          "output_type": "stream",
          "name": "stdout",
          "text": [
            "Training Set: 27850 rows\n",
            "Test Set: 11936 rows\n"
          ]
        }
      ]
    },
    {
      "cell_type": "code",
      "source": [
        "# Train the model\n",
        "from sklearn.linear_model import LinearRegression\n",
        "\n",
        "# Fit a linear regression model on the training set\n",
        "model = LinearRegression().fit(X_train, y_train)\n",
        "print (model)"
      ],
      "metadata": {
        "colab": {
          "base_uri": "https://localhost:8080/"
        },
        "id": "13gL50kXIte5",
        "outputId": "a73528c9-52f5-4c45-aaa1-825321285435"
      },
      "execution_count": 26,
      "outputs": [
        {
          "output_type": "stream",
          "name": "stdout",
          "text": [
            "LinearRegression()\n"
          ]
        }
      ]
    },
    {
      "cell_type": "code",
      "source": [
        "#'loan_amnt','term','grade','home_ownership','annual_inc','purpose'\n",
        "model.coef_"
      ],
      "metadata": {
        "colab": {
          "base_uri": "https://localhost:8080/"
        },
        "id": "Yd_OGkhxJo2p",
        "outputId": "6115cb79-706d-4214-bd07-a93b414dd4d2"
      },
      "execution_count": 27,
      "outputs": [
        {
          "output_type": "execute_result",
          "data": {
            "text/plain": [
              "array([ 0.5129885 ,  0.4048864 ,  2.46164721,  0.04784491, -1.33065641,\n",
              "       -0.0062949 ])"
            ]
          },
          "metadata": {},
          "execution_count": 27
        }
      ]
    },
    {
      "cell_type": "code",
      "source": [
        "#Computation of Predicted Labels and Actual Labels\n",
        "import numpy as np\n",
        "\n",
        "predictions = model.predict(X_test)\n",
        "np.set_printoptions(suppress=True)\n",
        "print('Predicted labels: ', np.round(predictions)[:6])\n",
        "print('Actual labels   : ' ,y_test[:6])"
      ],
      "metadata": {
        "colab": {
          "base_uri": "https://localhost:8080/"
        },
        "id": "h1uYbOeVI7hK",
        "outputId": "2313ec16-5def-4b58-9753-3af105c7a50a"
      },
      "execution_count": 28,
      "outputs": [
        {
          "output_type": "stream",
          "name": "stdout",
          "text": [
            "Predicted labels:  [11. 10. 13. 11. 15. 11.]\n",
            "Actual labels   :  [ 9.63 11.48 14.72 11.99 16.07 11.49]\n"
          ]
        }
      ]
    },
    {
      "cell_type": "markdown",
      "source": [
        "# STEP 4: MODELLING"
      ],
      "metadata": {
        "id": "v4EAGJCDLB1H"
      }
    },
    {
      "cell_type": "markdown",
      "source": [
        "MODEL: MULTIPLE LINEAR REGRESSION"
      ],
      "metadata": {
        "id": "k7TLJ_AoLL83"
      }
    },
    {
      "cell_type": "markdown",
      "source": [
        "Gradient Boosting Regressor model from sklearn library was implemented\n",
        "\n"
      ],
      "metadata": {
        "id": "xFwegwj_h1GN"
      }
    },
    {
      "cell_type": "code",
      "source": [
        "\n",
        "from sklearn.ensemble import GradientBoostingRegressor\n",
        "from sklearn.model_selection import GridSearchCV\n",
        "from sklearn.metrics import make_scorer, r2_score"
      ],
      "metadata": {
        "id": "jUWqQCTX8gC5"
      },
      "execution_count": 29,
      "outputs": []
    },
    {
      "cell_type": "code",
      "source": [
        "#Regression model without hyperameters\n",
        "\n",
        "\n",
        "modeltest = [\n",
        "             ['GradientBoostingRegressor :', GradientBoostingRegressor()]\n",
        "             \n",
        "              ]\n",
        "\n",
        "for name,modeltest in modeltest:\n",
        "\n",
        "  model = modeltest.fit(X_train, y_train)\n",
        "  print (model, \"\\n\")\n",
        "\n",
        "  # Evaluate the model using the test data\n",
        "  predictions = model.predict(X_test)\n",
        "  mse = mean_squared_error(y_test, predictions)\n",
        "  print(\"MSE:\", mse)\n",
        "  rmse = np.sqrt(mse)\n",
        "  print(\"RMSE:\", rmse)\n",
        "  r2 = r2_score(y_test, predictions)\n",
        "  print(\"R2:\", r2)\n",
        "\n",
        "  # Plot predicted vs actual\n",
        "  plt.scatter(y_test, predictions)\n",
        "  plt.xlabel('Actual Labels')\n",
        "  plt.ylabel('Predicted Labels')\n",
        "  plt.title('PREDICTION VS ACTUALS')\n",
        "  # overlay the regression line\n",
        "  z = np.polyfit(y_test, predictions, 1)\n",
        "  p = np.poly1d(z)\n",
        "  plt.plot(y_test,p(y_test), color='magenta')\n",
        "  plt.show()\n",
        "\n",
        "\n",
        "\n",
        "\n",
        "\n",
        "\n"
      ],
      "metadata": {
        "colab": {
          "base_uri": "https://localhost:8080/",
          "height": 381
        },
        "id": "ixL3yNgwiF-8",
        "outputId": "549f3916-0b0c-4e1d-c735-796f330117fb"
      },
      "execution_count": 43,
      "outputs": [
        {
          "output_type": "stream",
          "name": "stdout",
          "text": [
            "GradientBoostingRegressor() \n",
            "\n",
            "MSE: 0.9891086567005429\n",
            "RMSE: 0.9945394193799173\n",
            "R2: 0.9283166890318585\n"
          ]
        },
        {
          "output_type": "display_data",
          "data": {
            "text/plain": [
              "<Figure size 432x288 with 1 Axes>"
            ],
            "image/png": "[encoded data removed]"
          },
          "metadata": {
            "needs_background": "light"
          }
        }
      ]
    },
    {
      "cell_type": "markdown",
      "source": [
        "MODEL: HYPERPARAMETER TUNING/ GRID SEARCH"
      ],
      "metadata": {
        "id": "mhZm8rj7LduY"
      }
    },
    {
      "cell_type": "markdown",
      "source": [
        "\n",
        "\n",
        "1.   10 iterations of model with different hyperparameters. \n",
        "2.   Control for overfitting\n",
        "\n"
      ],
      "metadata": {
        "id": "z3tpM-sOkAAy"
      }
    },
    {
      "cell_type": "code",
      "source": [
        "from sklearn.metrics import classification_report\n",
        "from sklearn.metrics import confusion_matrix\n",
        "\n",
        "\n",
        "\n",
        "# Use a Gradient Boosting algorithm with different hyperparameters\n",
        "alg = [\n",
        "     [{\n",
        "         #hyperpamaters choosen: learning_rate and n_estimators\n",
        " 'learning_rate': [0.1,0.2,0.3,0.4,0.5,0.6,0.7,0.8,0.9,1.0],\n",
        "  'n_estimators' : [10,20,30,40,50,60,70,80,90,100]\n",
        " }, GradientBoostingRegressor()]\n",
        "\n",
        "\n",
        "              ]\n",
        "\n",
        "\n",
        "\n",
        "for params,alg in alg:\n",
        "  # Find the best hyperparameter combination to optimize the R2 metric\n",
        "  score = make_scorer(r2_score)\n",
        "  gridsearch = GridSearchCV(alg, params, scoring=score, cv=3, return_train_score=True)\n",
        "  gridsearch.fit(X_train, y_train)\n",
        "  print(\"Best parameter combination:\", gridsearch.best_params_, \"\\n\")\n",
        "\n",
        "  # Get the best model\n",
        "  model=gridsearch.best_estimator_\n",
        "  print(model, \"\\n\")\n",
        "\n",
        "  # Evaluate the model using the test data\n",
        "  predictions = model.predict(X_test)\n",
        "  mse = mean_squared_error(y_test, predictions)\n",
        "  print(\"MSE:\", mse)\n",
        "  rmse = np.sqrt(mse)\n",
        "  print(\"RMSE:\", rmse)\n",
        "  r2 = r2_score(y_test, predictions)\n",
        "  print(\"R2:\", r2)\n",
        "\n",
        "  # Plot predicted vs actual\n",
        "  plt.scatter(y_test, predictions)\n",
        "  plt.xlabel('Actual Labels')\n",
        "  plt.ylabel('Predicted Labels')\n",
        "  plt.title('Actual vs Predicted')\n",
        "  # overlay the regression line\n",
        "  z = np.polyfit(y_test, predictions, 1)\n",
        "  p = np.poly1d(z)\n",
        "  plt.plot(y_test,p(y_test), color='magenta')\n",
        "  plt.show()\n",
        "  \n",
        "#Control for overfitting: campare training and test datasets\n",
        "  clf=model.fit(X_train,y_train)\n",
        "  y_pred=model.predict(X_test)\n",
        "    \n",
        "  print(f'Training Score for   {clf.score(X_train,y_train) * 100:.2f}' )\n",
        "  print(f'Testing Score for  {clf.score(X_test,y_test) * 100:.2f}' )\n",
        " \n",
        "\n",
        "\n"
      ],
      "metadata": {
        "colab": {
          "base_uri": "https://localhost:8080/",
          "height": 450
        },
        "id": "GCOdRZkYSPIi",
        "outputId": "dabbb11f-76e5-43be-fc91-8328dfff6e9e"
      },
      "execution_count": 42,
      "outputs": [
        {
          "output_type": "stream",
          "name": "stdout",
          "text": [
            "Best parameter combination: {'learning_rate': 0.2, 'n_estimators': 40} \n",
            "\n",
            "GradientBoostingRegressor(learning_rate=0.2, n_estimators=40) \n",
            "\n",
            "MSE: 0.9889671133042589\n",
            "RMSE: 0.9944682565593831\n",
            "R2: 0.9283269470547992\n"
          ]
        },
        {
          "output_type": "display_data",
          "data": {
            "text/plain": [
              "<Figure size 432x288 with 1 Axes>"
            ],
            "image/png": "[encoded data removed]"
          },
          "metadata": {
            "needs_background": "light"
          }
        },
        {
          "output_type": "stream",
          "name": "stdout",
          "text": [
            "Training Score for   92.83\n",
            "Testing Score for  92.83\n"
          ]
        }
      ]
    },
    {
      "cell_type": "code",
      "source": [],
      "metadata": {
        "id": "6da_-ws7ahEY"
      },
      "execution_count": null,
      "outputs": []
    }
  ]
}